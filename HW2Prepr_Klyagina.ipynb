{
 "cells": [
  {
   "cell_type": "code",
   "execution_count": 2,
   "metadata": {},
   "outputs": [],
   "source": [
    "import pandas as pd\n",
    "import csv\n",
    "import sqlite3"
   ]
  },
  {
   "cell_type": "markdown",
   "metadata": {},
   "source": [
    "<b>Task 1. Take some data"
   ]
  },
  {
   "cell_type": "code",
   "execution_count": 123,
   "metadata": {},
   "outputs": [
    {
     "data": {
      "text/html": [
       "<div>\n",
       "<style scoped>\n",
       "    .dataframe tbody tr th:only-of-type {\n",
       "        vertical-align: middle;\n",
       "    }\n",
       "\n",
       "    .dataframe tbody tr th {\n",
       "        vertical-align: top;\n",
       "    }\n",
       "\n",
       "    .dataframe thead th {\n",
       "        text-align: right;\n",
       "    }\n",
       "</style>\n",
       "<table border=\"1\" class=\"dataframe\">\n",
       "  <thead>\n",
       "    <tr style=\"text-align: right;\">\n",
       "      <th></th>\n",
       "      <th>Language</th>\n",
       "      <th>source</th>\n",
       "      <th>preverb</th>\n",
       "      <th>meaning</th>\n",
       "      <th>comments</th>\n",
       "    </tr>\n",
       "  </thead>\n",
       "  <tbody>\n",
       "    <tr>\n",
       "      <th>0</th>\n",
       "      <td>Agul</td>\n",
       "      <td>magometov1970</td>\n",
       "      <td>NaN</td>\n",
       "      <td>spatial preverbs</td>\n",
       "      <td>NaN</td>\n",
       "    </tr>\n",
       "    <tr>\n",
       "      <th>1</th>\n",
       "      <td>Agul</td>\n",
       "      <td>magometov1970</td>\n",
       "      <td>č(-)</td>\n",
       "      <td>in combination with spatial preverbs</td>\n",
       "      <td>NaN</td>\n",
       "    </tr>\n",
       "    <tr>\n",
       "      <th>2</th>\n",
       "      <td>Agul</td>\n",
       "      <td>magometov1970</td>\n",
       "      <td>q(-)</td>\n",
       "      <td>repetitive</td>\n",
       "      <td>NaN</td>\n",
       "    </tr>\n",
       "    <tr>\n",
       "      <th>3</th>\n",
       "      <td>Agul</td>\n",
       "      <td>magometov1970</td>\n",
       "      <td>NaN</td>\n",
       "      <td>opposite meaning (противоположное значение)</td>\n",
       "      <td>NaN</td>\n",
       "    </tr>\n",
       "    <tr>\n",
       "      <th>4</th>\n",
       "      <td>Agul</td>\n",
       "      <td>magometov1970</td>\n",
       "      <td>j-</td>\n",
       "      <td>down</td>\n",
       "      <td>NaN</td>\n",
       "    </tr>\n",
       "  </tbody>\n",
       "</table>\n",
       "</div>"
      ],
      "text/plain": [
       "  Language         source preverb  \\\n",
       "0     Agul  magometov1970     NaN   \n",
       "1     Agul  magometov1970    č(-)   \n",
       "2     Agul  magometov1970    q(-)   \n",
       "3     Agul  magometov1970     NaN   \n",
       "4     Agul  magometov1970     j-    \n",
       "\n",
       "                                       meaning comments  \n",
       "0                             spatial preverbs      NaN  \n",
       "1         in combination with spatial preverbs      NaN  \n",
       "2                                   repetitive      NaN  \n",
       "3  opposite meaning (противоположное значение)      NaN  \n",
       "4                                         down      NaN  "
      ]
     },
     "execution_count": 123,
     "metadata": {},
     "output_type": "execute_result"
    }
   ],
   "source": [
    "pvb_gen = pd.read_csv('Preverbs.csv', sep=',', encoding='utf-8')\n",
    "pvb_list = pd.read_csv('Preverbs_list.csv', sep=',', encoding='utf-8')\n",
    "pvb_gen.head()\n",
    "pvb_list.head()"
   ]
  },
  {
   "cell_type": "markdown",
   "metadata": {},
   "source": [
    "<b> Task 2. Create 2 tables"
   ]
  },
  {
   "cell_type": "markdown",
   "metadata": {},
   "source": [
    "First table"
   ]
  },
  {
   "cell_type": "code",
   "execution_count": 119,
   "metadata": {},
   "outputs": [
    {
     "name": "stdout",
     "output_type": "stream",
     "text": [
      "('1', 'Agul', 'Lezgic', 'Agul', 'idiom', 'yes', '12', 'magometov1970', '158-165', '3 slots\\n')\n",
      "('2', 'Agul', 'Lezgic', \"Huppuq'\", 'village', 'no', '12', 'maisakganenkov2016', '3585-3590', '2 slots\\n')\n",
      "('3', 'Akhvakh', 'Andic', 'Northern Akhvakh', 'idiom', 'yes', '0', '\"magomedbekova1967', ' creissels2016\"', '')\n",
      "('4', 'Andi', 'Andic', 'Andi', 'idiom', 'yes', '0', 'cercvadze1965', '', '\\n')\n",
      "('5', 'Archi', 'Lezgic', 'Archib', 'village', 'yes', '0', '\"kibrik1977', ' chumakina2016\"', 'ch: 3600-3601')\n",
      "('6', 'Armenian', 'Armenian', 'Modern Eastern Armenian', 'idiom', 'yes', '24', 'dum-tragut2009', '647-651', '\\n')\n",
      "('7', 'Avar', 'Avar', 'Standard Avar', 'idiom', 'yes', '0', '\"gamzatov1983', ' alekseevetal2012\"', '\"236-242')\n",
      "('8', 'Azerbaijani', 'Turkic', 'Standard Azerbaijani', 'idiom', 'yes', '0', 'sirəliyevsevortyan1971', '', '\\n')\n",
      "('9', 'Bagvalal', 'Andic', 'Kvanada', 'village', 'yes', '0', 'kibrik2001', '', '\\n')\n",
      "('10', 'Bats', 'Nakh', 'Bats', 'village', 'yes', '5', 'desheriev1953', '\"81', ' 137')\n",
      "('11', 'Bezhta', 'Tsezic', 'Bezhta', 'village', 'yes', '0', 'madieva1965', '', '\\n')\n",
      "('12', 'Botlikh', 'Andic', 'Botlikh', 'village', 'yes', '0', 'alekseyevverhees2020', '', '\\n')\n",
      "('13', 'Budukh', 'Lezgic', 'Budukh', 'village', 'yes', '17', 'authierhaciyev2016', '3560-3561', '\\n')\n",
      "('14', 'Chamalal', 'Andic', 'Upper Gakvari', 'village', 'yes', '0', 'bokarev1949', '', '\\n')\n",
      "('15', 'Chechen', 'Nakh', 'Standard Chechen', 'idiom', 'yes', '9', 'nichols1994', '36', '\\n')\n",
      "('16', 'Dargwa', 'Dargwa', 'Standard Dargwa (Akusha)', 'idiom', 'yes', '18', 'abdullaev1954', '158-162', '\\n')\n",
      "('17', 'Dargwa', 'Dargwa', 'Mehweb', 'village', 'no', '5', 'danieletal2019', '108-109', '\\n')\n",
      "('18', 'Dargwa', 'Dargwa', 'Itsari', 'village', 'no', '12', 'sumbatovamutalov2003', '62-63', '\\n')\n",
      "('19', 'Dargwa', 'Dargwa', 'Kubachi', 'village', 'no', '10', 'magometov1963', '179-181', '\\n')\n",
      "('20', 'Godoberi', 'Andic', 'Godoberi', 'idiom', 'yes', '0', 'kibrikatal1996', '', '\\n')\n",
      "('21', 'Hinuq', 'Tsezic', 'Hinuq', 'idiom', 'yes', '0', 'forker2013', '191', '\\n')\n",
      "('22', 'Hunzib', 'Tsezic', 'Hunzib', 'idiom', 'yes', '0', 'vandenberg1995', '74', '\\n')\n",
      "('23', 'Ingush', 'Nakh', 'Ingush', 'idiom', 'yes', '21', 'nichols2011', '346-369', '\\n')\n",
      "('24', 'Karata', 'Andic', 'Karata', 'idiom', 'yes', '0', 'magomedbekova1971', '', '\\n')\n",
      "('25', 'Khinalug', 'Khinalug', 'Khinalug', 'village', 'yes', '10', 'schulze2016khinalug', '3615', '\\n')\n",
      "('26', 'Khwarshi', 'Tsezic', 'Kwantlada', 'village', 'yes', '0', 'khalilova2009', '', '\\n')\n",
      "('27', 'Kryz', 'Lezgic', 'Alik', 'village', 'yes', '15', 'authier2009', '127-133', 'in french\\n')\n",
      "('28', 'Kumyk', 'Turkic', 'Standard Kumyk', 'idiom', 'yes', '0', 'abdullaevaetal2014', '', '\\n')\n",
      "('29', 'Lak', 'Lak', 'Standard Lak (Kumukh)', 'idiom', 'yes', '0', 'schulze2016lak', '3624', 'historical preverbs\\n')\n",
      "('30', 'Lezgian', 'Lezgic', 'Standard Lezgian', 'idiom', 'yes', '22', 'haspelmath1993', '167-174', '\\n')\n",
      "('31', 'Nogai', 'Turkic', 'Nogai', 'idiom ', 'yes', '0', 'baskakov1940', '', '\\n')\n",
      "('32', 'Rutul', 'Lezgic', 'Mukhad', 'idiom', 'yes', '14', '\"alekseev1994', ' alekseev2016\"', '226-228; 3543')\n",
      "('33', 'Tabasaran', 'Lezgic', 'Tabasaran', 'idiom', 'yes', '7', '\"alekseevshixalieva2003', ' magometov1965\"', '61; 218')\n",
      "('34', 'Tindi', 'Andic', 'Tindi', 'idiom', 'yes', '0', 'magometova2012', '', '\\n')\n",
      "('35', 'Tsakhur', 'Lezgic', 'Mishlesh', 'village', 'yes', '0', 'kibriketal1999', '58', '\"lexemes with historical preverbs')\n",
      "('36', 'Tsez', 'Tsezic', 'Kedero', 'village', 'yes', '0', 'bokarev1959', '', '\\n')\n",
      "('37', 'Udi', 'Lezgic', 'Nidzh', 'village', 'yes', '0', '\"maisak2008', ' schulze2016udi\"', '\"104-105')\n"
     ]
    }
   ],
   "source": [
    "with open('Preverbs.csv', 'r', encoding='utf-8') as k:\n",
    "    k= k.readlines()\n",
    "    \n",
    "# подключаемся к базе данных\n",
    "conn = sqlite3.connect('example.db')\n",
    "\n",
    "# создаем объект \"курсор\", которому будем передавать запросы\n",
    "c = conn.cursor()\n",
    "\n",
    "# создаем таблицу\n",
    "c.execute(\"DROP TABLE IF EXISTS PreverbsGen\")\n",
    "c.execute(\"CREATE TABLE IF NOT EXISTS PreverbsGen (id, lang, branch, idiom, type, core, value, source, page, comment)\")\n",
    "\n",
    "for row in k:\n",
    "    row = row.split(',')\n",
    "    c.execute(\"INSERT INTO PreverbsGen VALUES (?, ?, ?, ?, ?, ?, ?, ?, ?, ?)\", (row[0], row[1], row[2], row[3], row[4], row[5], row[6], row[7], row[8], row[9]))\n",
    "    # сохраняем изменения\n",
    "conn.commit()\n",
    "\n",
    "for i in c.execute(\"delete FROM PreverbsGen where id = 'id'\"):\n",
    "    print(i)\n",
    "for i in c.execute(\"select * FROM PreverbsGen\"):\n",
    "    print(i)\n",
    "# отключаемся от БД\n",
    "conn.close()"
   ]
  },
  {
   "cell_type": "markdown",
   "metadata": {},
   "source": [
    "Second table"
   ]
  },
  {
   "cell_type": "code",
   "execution_count": 112,
   "metadata": {},
   "outputs": [
    {
     "name": "stdout",
     "output_type": "stream",
     "text": [
      "('Agul', 'magometov1970', '', 'spatial preverbs', '\\n')\n",
      "('Agul', 'magometov1970', 'č(-)', 'in combination with spatial preverbs', '\\n')\n",
      "('Agul', 'magometov1970', 'q(-)', 'repetitive', '\\n')\n",
      "('Agul', 'magometov1970', '', 'opposite meaning (противоположное значение)', '\\n')\n",
      "('Agul', 'magometov1970', 'j- ', 'down', '\\n')\n",
      "('Agul', 'magometov1970', 'ɣ(-)', 'up', '\\n')\n",
      "('Agul', 'maisak2016', 'ʔ-', 'IN ‘inside a container', '\\n')\n",
      "('Agul', 'maisak2016', 'ʕ- ', '\"INTER ‘inside liquid or substance’', '\"')\n",
      "('Agul', 'maisak2016', 'h- ', 'ANTE ‘in front of a ground’', '\\n')\n",
      "('Agul', 'maisak2016', 'q- ', 'POST ‘behind a ground', '\\n')\n",
      "('Agul', 'maisak2016', 'f- ', 'APUD ‘near a ground’', '\\n')\n",
      "('Agul', 'maisak2016', 'al- ', 'SUPER ‘on the horizontal surface’', '\\n')\n",
      "('Agul', 'maisak2016', 'k-', 'SUB/CONT ‘below’/‘attached to a ground’.', '\\n')\n",
      "('Agul', 'maisak2016', '-č- || -ča- ', 'LAT (lative) ‘', '\\n')\n",
      "('Agul', 'maisak2016', '-atː', \"ELAT (elative) 'motion from'\", '\\n')\n",
      "('Agul', 'maisak2016', '-ʁ- || ʁa-', 'UP ‘motion up’', '\\n')\n",
      "('Agul', 'maisak2016', '-a- || -da- ', 'DOWN ‘motion down’.', '\\n')\n",
      "('Agul', 'maisak2016', 'q- ', 'repetitive', '\\n')\n",
      "('Armenian', 'dum-tragut2009', 'ap(a)-', 'antonimous meaning', '\\n')\n",
      "('Armenian', 'dum-tragut2009', 'ger-', '\"“super-', ' more than')\n",
      "('Armenian', 'dum-tragut2009', 'bał- ', '\"“co-', ' together”\"')\n",
      "('Armenian', 'dum-tragut2009', 'hak- ', '\"“contra-', ' anti-”')\n",
      "('Armenian', 'dum-tragut2009', 'heł- ', '\"“contra-', ' contrary')\n",
      "('Armenian', 'dum-tragut2009', '\"dem-', ' dim- \"', '“against”')\n",
      "('Armenian', 'dum-tragut2009', ' tar- ', '\"“different (from); foreign; extra-”', '\"')\n",
      "('Armenian', 'dum-tragut2009', 'tram- ', '\"“other', ' part of')\n",
      "('Armenian', 'dum-tragut2009', 'p’ox- ', '\"“trans-; reverse', ' back; inter-; vice-”\"')\n",
      "('Armenian', 'dum-tragut2009', 'andr- ', '\"“trans-; ultra-', ' over-; re-; other')\n",
      "('Armenian', 'dum-tragut2009', 'ar̊-', '\"“to', ' by')\n",
      "('Armenian', 'dum-tragut2009', 'art-', '\"“outside', ' out-”')\n",
      "('Armenian', 'dum-tragut2009', 'bac’-', '\"“ex-', ' extra-')\n",
      "('Armenian', 'dum-tragut2009', 'ent’- ', '\"“sub-”', '\"')\n",
      "('Armenian', 'dum-tragut2009', 'ěnd- ', '\"“in-; inter-; with”', '\"')\n",
      "('Armenian', 'dum-tragut2009', 'har-', '\"“near', ' close to; co-; joint “')\n",
      "('Armenian', 'dum-tragut2009', 'mak- ', '\"“sur-”', '\"')\n",
      "('Armenian', 'dum-tragut2009', '\"mej-', ' mij- \"', '\"“in')\n",
      "('Armenian', 'dum-tragut2009', 'ner- ', '\"“in', ' inside of ”')\n",
      "('Armenian', 'dum-tragut2009', 'stor- ', '\"“sub-', ' under-')\n",
      "('Armenian', 'dum-tragut2009', 'vayr- ', '\"“down”', '\"')\n",
      "('Armenian', 'dum-tragut2009', 'ver- ', '\"“on', ' above')\n",
      "('Armenian', 'dum-tragut2009', 'het-', '\"“re-', ' post-')\n",
      "('Armenian', 'dum-tragut2009', 'nax- ', '\"“fore-', ' pre-')\n",
      "('Armenian', 'dum-tragut2009', 'ver- ', '\"“re-”', '\"')\n",
      "('Bats', 'desheriev1953', 'чу', 'in', '\\n')\n",
      "('Bats', 'desheriev1953', 'мак', 'on', '\\n')\n",
      "('Bats', 'desheriev1953', 'хьала', '\"в значении русских глагольных приставок \\'о’', ' \\'об’: бопхба седлать* — хьахбопхба \\'оседлать’;\"')\n",
      "('Bats', 'desheriev1953', 'дахь', '\"— в значении русских глагольных приставок \\'от’', \" 'у и др: ваха 'итти’ — дахъваха 'уйти’\")\n",
      "('Bats', 'desheriev1953', \"нiъаи'\", 'out of', '\\n')\n",
      "('Budukh', 'authier2016', '(ʔ)A- ', '‘inside a container’:', '\\n')\n",
      "('Budukh', 'authier2016', 'ʕa- ', '‘down’:', '\\n')\n",
      "('Budukh', 'authier2016', 'ʕI- ', '\"‘against', ' in front’:\"')\n",
      "('Budukh', 'authier2016', 'qA- ', '\"‘out', ' up’:\"')\n",
      "('Budukh', 'authier2016', 'qI- ', '‘on’:', '\\n')\n",
      "('Budukh', 'authier2016', 'vA-', '‘near’:', '\\n')\n",
      "('Budukh', 'authier2016', 'çI- ', '\"‘under', ' up to’:\"')\n",
      "('Budukh', 'authier2016', 'çA- ', '‘away’:', '\\n')\n",
      "('Budukh', 'authier2016', 'yA- ', '‘through’:', '\\n')\n",
      "('Budukh', 'authier2016', '\"ha-', ' ç’a-\"', 'became opaque')\n",
      "('Budukh', 'authier2016', '\"-ç’a', ' -cA', ' -zA')\n",
      "('Chechen', 'nichols2013', '', '', '\\n')\n",
      "('Dargwa', 'abdullaev1954', '', '', '\\n')\n",
      "('Dargwa', 'abdullaev1954', 'a', 'upwards', '\\n')\n",
      "('Dargwa', 'abdullaev1954', '\"ка', ' кат', ' катх1ел')\n",
      "('Dargwa', 'abdullaev1954', '\"лаг', ' лагвях1\"', 'upwards')\n",
      "('Dargwa', 'abdullaev1954', '\"саб сат', ' сатх1ел', ' сатх1елбях1\"')\n",
      "('Dargwa', 'abdullaev1954', 'ар', 'here from', '\\n')\n",
      "('Dargwa', 'abdullaev1954', '\"бу', ' бе', ' бет')\n",
      "('Dargwa', 'abdullaev1954', 'бат', 'from', '\\n')\n",
      "('Dargwa', 'abdullaev1954', '\"лу', ' ля\"', '\"here')\n",
      "('Dargwa', 'abdullaev1954', '\"че', ' чеди', ' чебях1\"')\n",
      "('Dargwa', 'abdullaev1954', '\"у', ' уди', ' уб')\n",
      "('Dargwa', 'abdullaev1954', '\"гьа', ' гьаб', ' гьала')\n",
      "('Dargwa', 'abdullaev1954', '\"г1е', ' г1еб', ' г1ела')\n",
      "('Dargwa', 'abdullaev1954', '\"г1ер', ' г1ергьи\"', '\"behind')\n",
      "('Dargwa', 'abdullaev1954', '\"дура', ' дурасес\"', 'out(side) (наружу)')\n",
      "('Dargwa', 'abdullaev1954', 'бух1на', 'in(side) (внутрь)', '\\n')\n",
      "('Dargwa', 'abdullaev1954', '\"урга', ' ургар', ' ургабухъес\"')\n",
      "('Dargwa', 'abdullaev1954', 'ахъ', 'upwards', '\\n')\n",
      "('Dargwa', 'abdullaev1954', 'г1яш', '\"downwards', '\"')\n",
      "('Dargwa', 'daniel2019', 'ar', 'away', '\\n')\n",
      "('Dargwa', 'daniel2019', 'ka', 'down', '\\n')\n",
      "('Dargwa', 'daniel2019', 'har-', 'highly idiomatized', '\\n')\n",
      "('Dargwa', 'daniel2019', 'če-', 'surface', '\\n')\n",
      "('Dargwa', 'daniel2019', 'q’a-', 'highly idiomatized', '\\n')\n",
      "('Dargwa', 'sumbatovamutalov2003', '', '', '\\n')\n",
      "('Dargwa', 'sumbatovamutalov2003', '', '', '\\n')\n",
      "('Dargwa', 'magometov1963', '\"či', ' či-b', ' či-j\"')\n",
      "('Dargwa', 'magometov1963', '\"wi', ' wi-b', ' wi-j\"')\n",
      "('Dargwa', 'magometov1963', '\"ta', ' ta-b', ' tē\"')\n",
      "('Dargwa', 'magometov1963', '\"biš', ' biš-i-b', ' biš-i-j\"')\n",
      "('Dargwa', 'magometov1963', '\"bēn', ' bēn-i-b bēn-i-j\"', 'inside')\n",
      "('Dargwa', 'magometov1963', '\"kwi', ' kwi-b', ' kwi-j\"')\n",
      "('Dargwa', 'magometov1963', 'ka', 'downwards', '\\n')\n",
      "('Dargwa', 'magometov1963', 'ha', 'upwards', '\\n')\n",
      "('Dargwa', 'magometov1963', 'sa', 'to the speaker (horizontally)', '\\n')\n",
      "('Dargwa', 'magometov1963', 'bi', 'from to speaker (horizontally)', 'clitic\\n')\n",
      "('Ingush', 'nichols2011', 'dwa', '- away from speaker', 'clitic\\n')\n",
      "('Ingush', 'nichols2011', 'hwa- ', 'toward speaker', 'clitic\\n')\n",
      "('Ingush', 'nichols2011', 'hwal-', 'up', 'clitic\\n')\n",
      "('Ingush', 'nichols2011', 'wa- ', 'down', 'clitic\\n')\n",
      "('Ingush', 'nichols2011', \"t'y= \", '\"on', ' onto\\' \"')\n",
      "('Ingush', 'nichols2011', 'chy= ', '\"in', ' into\\'\"')\n",
      "('Ingush', 'nichols2011', \"k'al\", 'under', 'clitic \\n')\n",
      "('Ingush', 'nichols2011', 'ura- ', '\"upright', ' upwards\\' \"')\n",
      "('Ingush', 'nichols2011', \"c'a- \", \"home' \", '\\n')\n",
      "('Ingush', 'nichols2011', 'ka- ', '\"hand; by hand', ' with the hand\\' \"')\n",
      "('Ingush', 'nichols2011', 'gi- ', \"on the back'\", '\\n')\n",
      "('Ingush', 'nichols2011', 'chaq- ', '\"across', ' through; finished')\n",
      "('Ingush', 'nichols2011', 'jixie- ', '\"near', ' close by\\'\"')\n",
      "('Ingush', 'nichols2011', \"t'ehwa- \", \"behind'\", '\\n')\n",
      "('Ingush', 'nichols2011', 'duhwal- ', '\"toward', ' against')\n",
      "('Ingush', 'nichols2011', 'aara ', \"out' \", 'adverbs that can be prefixes if the slot is available\\n')\n",
      "('Ingush', 'nichols2011', 'juxa ', '\"back; again', ' over')\n",
      "('Ingush', 'nichols2011', 'uragh(a) ', '\"up', ' upwards\\' \"')\n",
      "('Ingush', 'nichols2011', 'laqie ', '\"above', ' up\\'\"')\n",
      "('Ingush', 'nichols2011', 'loxie', '\"below', ' down\\'\"')\n",
      "('Ingush', 'nichols2011', \"aarq'al \", \"face up'\", 'adverbs that can be prefixes if the slot is available\\n')\n",
      "('Khinalug', 'schulze2016', 'al- ', 'from above down to sb', '\\n')\n",
      "('Khinalug', 'schulze2016', 'qal-', 'from below up to sb', '\\n')\n",
      "('Khinalug', 'schulze2016', 'tʰal-', 'toward sb/sth on the same level', '\\n')\n",
      "('Khinalug', 'schulze2016', 'kʰal', 'toward (general) sb/sth', '\\n')\n",
      "('Khinalug', 'schulze2016', 'a-', 'from somewhere above sth', '\\n')\n",
      "('Khinalug', 'schulze2016', 'za-', 'from somewhere below sth', '\\n')\n",
      "('Khinalug', 'schulze2016', 'la-', 'from somewhere on the same level as sth', '\\n')\n",
      "('Khinalug', 'schulze2016', 'ø', 'general', 'second position\\n')\n",
      "('Khinalug', 'schulze2016', '-tər-', 'move separation from', 'second position\\n')\n",
      "('Khinalug', 'schulze2016', '-χil', 'move integration into', 'second position\\n')\n",
      "('Khinalug', 'schulze2016', 'ʧ’(i)-', 'causative', 'second position\\n')\n",
      "('Kryz', 'authier2009', 'ˁu-/ˁa-', 'in', 'unproductive\\n')\n",
      "('Kryz', 'authier2009', 'ki-/ke', 'sub', 'unproductive\\n')\n",
      "('Kryz', 'authier2009', 'çi-/ ça-', 'sub', 'unproductive\\n')\n",
      "('Kryz', 'authier2009', 'ği-/ğa-', 'super', 'unproductive\\n')\n",
      "('Kryz', 'authier2009', 'hu-/ha-', 'apud', 'unproductive\\n')\n",
      "('Kryz', 'authier2009', 'vu-/va-', 'ad', 'unproductive\\n')\n",
      "('Kryz', 'authier2009', 'su-/sa-', 'cum', 'unproductive\\n')\n",
      "('Kryz', 'authier2009', 'qa-/qi-', 'repetitve', '\\n')\n",
      "('Kryz', 'authier2009', 'sur-', 'on', '\\n')\n",
      "('Kryz', 'authier2009', 'ç’a-/ç’u-', 'highly idiomatized', '\\n')\n",
      "('Kryz', 'authier2009', 'tu- ; t’u- ', 'highly idiomatized', '\\n')\n",
      "('Kryz', 'authier2009', '\"k’i-', '\"', 'highly idiomatized')\n",
      "('Kryz', 'authier2009', 'ya-', 'l’idée de partition.', '\\n')\n",
      "('Kryz', 'authier2009', 'yi', 'highly idiomatized', '\\n')\n",
      "('Kryz', 'authier2009', 'i-', 'highly idiomatized', '\\n')\n",
      "('Lezgian', 'haspelmath1993', 'Aq̅- ', 'out', '\\n')\n",
      "('Lezgian', 'haspelmath1993', 'Ag', \"approaching'\", '\\n')\n",
      "('Lezgian', 'haspelmath1993', 'Al', 'off', '\\n')\n",
      "('Lezgian', 'haspelmath1993', 'kw', '', '\\n')\n",
      "('Lezgian', 'haspelmath1993', 'gw', '', '\\n')\n",
      "('Lezgian', 'haspelmath1993', 'h', '', '\\n')\n",
      "('Lezgian', 'haspelmath1993', \"k'w\", '', '\\n')\n",
      "('Lezgian', 'haspelmath1993', 'Aw', '', '\\n')\n",
      "('Lezgian', 'haspelmath1993', 'Ak', '', '\\n')\n",
      "('Lezgian', 'haspelmath1993', 'Ac', '', '\\n')\n",
      "('Lezgian', 'haspelmath1993', \"Aq'\", '', '\\n')\n",
      "('Lezgian', 'haspelmath1993', 'gAl', '', '\\n')\n",
      "('Lezgian', 'haspelmath1993', 'kAk', '', '\\n')\n",
      "('Lezgian', 'haspelmath1993', 'q̅Aq̅', '', '\\n')\n",
      "('Lezgian', 'haspelmath1993', 'hAl', '', '\\n')\n",
      "('Lezgian', 'haspelmath1993', 'kAl', '', '\\n')\n",
      "('Lezgian', 'haspelmath1993', 'agAl', '', '\\n')\n",
      "('Lezgian', 'haspelmath1993', \"aq'Al\", '', '\\n')\n",
      "('Lezgian', 'haspelmath1993', 'acAl', '', '\\n')\n",
      "('Lezgian', 'haspelmath1993', 'qh(i)', 'repetitive', '\\n')\n",
      "('Lezgian', 'haspelmath1993', 'x(U)', 'repetitive', '\\n')\n",
      "('Lezgian', 'haspelmath1993', 'xk', '', '\\n')\n",
      "('Rutul', '\"alekseev1994', ' alekseev2016\"', 's', '\"down')\n",
      "('Rutul', '\"alekseev1994', ' alekseev2016\"', 'l', '\"on')\n",
      "('Rutul', '\"alekseev1994', ' alekseev2016\"', 'k', '\"in solid mass')\n",
      "('Rutul', '\"alekseev1994', ' alekseev2016\"', 'g', 'under')\n",
      "('Rutul', '\"alekseev1994', ' alekseev2016\"', 'ʔ', 'inside')\n",
      "('Rutul', '\"alekseev1994', ' alekseev2016\"', 'q', 'behind backwards')\n",
      "('Rutul', '\"alekseev1994', ' alekseev2016\"', 'ğ-', 'outside')\n",
      "('Rutul', '\"alekseev1994', ' alekseev2016\"', 'xˇ -', '\"by')\n",
      "('Rutul', '\"alekseev1994', ' alekseev2016\"', '\"ql', ' h')\n",
      "('Rutul', '\"alekseev1994', ' alekseev2016\"', '\"ǯ', ' ċ')\n",
      "('Tabasaran', '\"alekseevshixalieva2003', ' magometov1965\"', 'а /ъа (ʔ)', 'in')\n",
      "('Tabasaran', '\"alekseevshixalieva2003', ' magometov1965\"', 'хь-а/гь-а (xʲ/h)', 'by')\n",
      "('Tabasaran', '\"alekseevshixalieva2003', ' magometov1965\"', 'ka (k)', 'on')\n",
      "('Tabasaran', '\"alekseevshixalieva2003', ' magometov1965\"', 'хъа (q)', 'behind')\n",
      "('Tabasaran', '\"alekseevshixalieva2003', ' magometov1965\"', 'кка ', 'under')\n",
      "('Tabasaran', '\"alekseevshixalieva2003', ' magometov1965\"', 'ал (il)', 'on')\n",
      "('Tabasaran', '\"alekseevshixalieva2003', ' magometov1965\"', \"гья (ɣ')\", 'between')\n",
      "('Udi', 'maisak2008', 'la', 'upward', '\\n')\n",
      "('Udi', 'maisak2008', 'ci', 'downward', '\\n')\n",
      "('Udi', 'maisak2008', 'ba', 'inside', '\\n')\n",
      "('Udi', 'maisak2008', 'čːe-', 'outside', '\\n')\n",
      "('Udi', 'schulze2016', 'e-', 'hither', '\\n')\n",
      "('Udi', 'schulze2016', 'ta(y)-', 'thither', '\\n')\n",
      "('Udi', 'schulze2016', 'la(y)', 'on(to)', '\\n')\n",
      "('Udi', 'schulze2016', '*ai', 'upward', '\\n')\n",
      "('Udi', 'schulze2016', 'tsi', 'down', '\\n')\n",
      "('Udi', 'schulze2016', 'ba(j)', 'in(to)', '\\n')\n",
      "('Udi', 'schulze2016', 'ʧ’e-', 'out', '\\n')\n",
      "('Udi', 'schulze2016', '*xuru-', 'around', '\\n')\n",
      "('Udi', 'schulze2016', 'qay-', 'back', '')\n"
     ]
    }
   ],
   "source": [
    "# подключаемся к базе данных\n",
    "conn = sqlite3.connect('example.db')\n",
    "\n",
    "# создаем объект \"курсор\", которому будем передавать запросы\n",
    "c = conn.cursor()\n",
    "\n",
    "with open('Preverbs_list.csv', 'r', encoding='utf-8') as f:\n",
    "    f = f.readlines()\n",
    "\n",
    "# создаем таблицу\n",
    "c.execute(\"DROP TABLE IF EXISTS Preverbs\")\n",
    "c.execute(\"CREATE TABLE IF NOT EXISTS Preverbs (lang, source, preverb, meaning, comment)\")\n",
    "\n",
    "for row in f:\n",
    "    row = row.split(',')\n",
    "    c.execute(\"INSERT INTO Preverbs VALUES (?, ?, ?, ?, ?)\", (row[0], row[1], row[2], row[3], row[4]))\n",
    "\n",
    "# сохраняем изменения\n",
    "conn.commit()\n",
    "\n",
    "for i in c.execute(\"delete FROM Preverbs where source = 'source'\"):\n",
    "    print(i)\n",
    "for i in c.execute(\"SELECT * FROM Preverbs\"):\n",
    "    print(i)\n",
    "\n",
    "# отключаемся от БД\n",
    "conn.close()"
   ]
  },
  {
   "cell_type": "markdown",
   "metadata": {},
   "source": [
    "So my data is presented in two tables.\n",
    "\n",
    "In the table \"PreverbsGen\" I have geneological information about the languages under study and the sources and the value (number of preverbs).\n",
    "In table \"Preverbs\" I give a list of preverbs with their semantics for each language under study that has them. \n",
    "\n",
    "Thus, if I want to find a particular preverb I will use Table 2 and Table 1 is more useful to look at the whole picture.\n",
    "\n",
    "Unfortunately, Table 2 is not finished and is not perfect for parsing. For example, some preverbs and their meaning are written in Russian, and some in English. Also, the semantic labels (even when in English) are not normalized. So at this stage it is rather difficult to search what branches have prefix of repetitive or look for all the preverbs with (\"down\") semantics. But when the data is more ready, all these queries can help make some interesrting typological generalizations."
   ]
  },
  {
   "cell_type": "markdown",
   "metadata": {},
   "source": [
    "<b> Task 3. Queries\n",
    "    "
   ]
  },
  {
   "cell_type": "markdown",
   "metadata": {},
   "source": [
    "1. We can check what languages don't have preverbs"
   ]
  },
  {
   "cell_type": "code",
   "execution_count": 122,
   "metadata": {},
   "outputs": [
    {
     "name": "stdout",
     "output_type": "stream",
     "text": [
      "('Akhvakh', 'Andic')\n",
      "('Andi', 'Andic')\n",
      "('Bagvalal', 'Andic')\n",
      "('Botlikh', 'Andic')\n",
      "('Chamalal', 'Andic')\n",
      "('Godoberi', 'Andic')\n",
      "('Karata', 'Andic')\n",
      "('Tindi', 'Andic')\n",
      "('Avar', 'Avar')\n",
      "('Lak', 'Lak')\n",
      "('Archi', 'Lezgic')\n",
      "('Tsakhur', 'Lezgic')\n",
      "('Udi', 'Lezgic')\n",
      "('Bezhta', 'Tsezic')\n",
      "('Hinuq', 'Tsezic')\n",
      "('Hunzib', 'Tsezic')\n",
      "('Khwarshi', 'Tsezic')\n",
      "('Tsez', 'Tsezic')\n",
      "('Azerbaijani', 'Turkic')\n",
      "('Kumyk', 'Turkic')\n",
      "('Nogai', 'Turkic')\n"
     ]
    }
   ],
   "source": [
    "# подключаемся к базе данных\n",
    "conn = sqlite3.connect('example.db')\n",
    "\n",
    "# создаем объект \"курсор\", которому будем передавать запросы\n",
    "c = conn.cursor()\n",
    "\n",
    "# создаем таблицу\n",
    "c.execute(\"DROP TABLE IF EXISTS PreverbsGen\")\n",
    "c.execute(\"CREATE TABLE IF NOT EXISTS PreverbsGen (id, lang, branch, idiom, type, core, value, source, page, comment)\")\n",
    "\n",
    "for row in k:\n",
    "    row = row.split(',')\n",
    "    c.execute(\"INSERT INTO PreverbsGen VALUES (?, ?, ?, ?, ?, ?, ?, ?, ?, ?)\", (row[0], row[1], row[2], row[3], row[4], row[5], row[6], row[7], row[8], row[9]))\n",
    "    # сохраняем изменения\n",
    "conn.commit()\n",
    "\n",
    "for i in c.execute(\"delete FROM PreverbsGen where id = 'id'\"):\n",
    "    print(i)\n",
    "for i in c.execute('SELECT lang, branch FROM PreverbsGen WHERE value = \"0\" order by branch'):\n",
    "    print(i)\n"
   ]
  },
  {
   "cell_type": "markdown",
   "metadata": {},
   "source": [
    "2. Do all branches from the first query don't have languages with preverbs?"
   ]
  },
  {
   "cell_type": "code",
   "execution_count": 123,
   "metadata": {},
   "outputs": [
    {
     "name": "stdout",
     "output_type": "stream",
     "text": [
      "('Akhvakh', 'Andic', '0')\n",
      "('Andi', 'Andic', '0')\n",
      "('Bagvalal', 'Andic', '0')\n",
      "('Botlikh', 'Andic', '0')\n",
      "('Chamalal', 'Andic', '0')\n",
      "('Godoberi', 'Andic', '0')\n",
      "('Karata', 'Andic', '0')\n",
      "('Tindi', 'Andic', '0')\n",
      "('Avar', 'Avar', '0')\n",
      "('Lak', 'Lak', '0')\n",
      "('Agul', 'Lezgic', '12')\n",
      "('Agul', 'Lezgic', '12')\n",
      "('Archi', 'Lezgic', '0')\n",
      "('Budukh', 'Lezgic', '17')\n",
      "('Kryz', 'Lezgic', '15')\n",
      "('Lezgian', 'Lezgic', '22')\n",
      "('Rutul', 'Lezgic', '14')\n",
      "('Tabasaran', 'Lezgic', '7')\n",
      "('Tsakhur', 'Lezgic', '0')\n",
      "('Udi', 'Lezgic', '0')\n",
      "('Bezhta', 'Tsezic', '0')\n",
      "('Hinuq', 'Tsezic', '0')\n",
      "('Hunzib', 'Tsezic', '0')\n",
      "('Khwarshi', 'Tsezic', '0')\n",
      "('Tsez', 'Tsezic', '0')\n",
      "('Azerbaijani', 'Turkic', '0')\n",
      "('Kumyk', 'Turkic', '0')\n",
      "('Nogai', 'Turkic', '0')\n"
     ]
    }
   ],
   "source": [
    "for i in c.execute('SELECT lang, branch, value FROM PreverbsGen WHERE branch = \"Andic\" or branch = \"Avar\" or branch = \"Lak\" or branch = \"Lezgic\" or branch = \"Tsezic\" or branch = \"Turkic\" order by branch'):\n",
    "    print(i)"
   ]
  },
  {
   "cell_type": "markdown",
   "metadata": {},
   "source": [
    "so most Lezgic languages actually do have preverbs, but no Andic, Avar, Lak, Tsezic or Turkic"
   ]
  },
  {
   "cell_type": "markdown",
   "metadata": {},
   "source": [
    "3. I wonder are top five languages with the most number of preverbs"
   ]
  },
  {
   "cell_type": "code",
   "execution_count": 142,
   "metadata": {},
   "outputs": [
    {
     "name": "stdout",
     "output_type": "stream",
     "text": [
      "('15', 'Chechen', 'Nakh', '9')\n",
      "('33', 'Tabasaran', 'Lezgic', '7')\n",
      "('10', 'Bats', 'Nakh', '5')\n",
      "('17', 'Dargwa', 'Dargwa', '5')\n",
      "('6', 'Armenian', 'Armenian', '24')\n"
     ]
    }
   ],
   "source": [
    "for i in c.execute('SELECT id, lang, branch, value FROM PreverbsGen order by value desc limit 5'):\n",
    "    print(i)\n",
    "\n"
   ]
  },
  {
   "cell_type": "markdown",
   "metadata": {},
   "source": [
    "oh, actually I cannot do it nicely using SQLite3 :( I checked that I cannot alter columns useing it....:\n",
    "but I can do this"
   ]
  },
  {
   "cell_type": "code",
   "execution_count": 143,
   "metadata": {},
   "outputs": [
    {
     "name": "stdout",
     "output_type": "stream",
     "text": [
      "('6', 'Armenian', 'Armenian', '24')\n",
      "('30', 'Lezgian', 'Lezgic', '22')\n",
      "('23', 'Ingush', 'Nakh', '21')\n",
      "('16', 'Dargwa', 'Dargwa', '18')\n",
      "('13', 'Budukh', 'Lezgic', '17')\n"
     ]
    }
   ],
   "source": [
    "for i in c.execute('SELECT id, lang, branch, value FROM PreverbsGen order by value desc limit 5 offset 4'):\n",
    "    print(i)"
   ]
  },
  {
   "cell_type": "markdown",
   "metadata": {},
   "source": [
    "4. now I want to look at all Lizgic preverbs"
   ]
  },
  {
   "cell_type": "code",
   "execution_count": 180,
   "metadata": {},
   "outputs": [
    {
     "name": "stdout",
     "output_type": "stream",
     "text": [
      "('Agul', '', 'opposite meaning (противоположное значение)')\n",
      "('Agul', '', 'spatial preverbs')\n",
      "('Agul', '-a- || -da- ', 'DOWN ‘motion down’.')\n",
      "('Agul', '-atː', \"ELAT (elative) 'motion from'\")\n",
      "('Agul', '-č- || -ča- ', 'LAT (lative) ‘')\n",
      "('Agul', '-ʁ- || ʁa-', 'UP ‘motion up’')\n",
      "('Agul', 'al- ', 'SUPER ‘on the horizontal surface’')\n",
      "('Agul', 'f- ', 'APUD ‘near a ground’')\n",
      "('Agul', 'h- ', 'ANTE ‘in front of a ground’')\n",
      "('Agul', 'j- ', 'down')\n",
      "('Agul', 'k-', 'SUB/CONT ‘below’/‘attached to a ground’.')\n",
      "('Agul', 'q(-)', 'repetitive')\n",
      "('Agul', 'q- ', 'POST ‘behind a ground')\n",
      "('Agul', 'q- ', 'repetitive')\n",
      "('Agul', 'č(-)', 'in combination with spatial preverbs')\n",
      "('Agul', 'ɣ(-)', 'up')\n",
      "('Agul', 'ʔ-', 'IN ‘inside a container')\n",
      "('Agul', 'ʕ- ', '\"INTER ‘inside liquid or substance’')\n",
      "('Agul', '', 'opposite meaning (противоположное значение)')\n",
      "('Agul', '', 'spatial preverbs')\n",
      "('Agul', '-a- || -da- ', 'DOWN ‘motion down’.')\n",
      "('Agul', '-atː', \"ELAT (elative) 'motion from'\")\n",
      "('Agul', '-č- || -ča- ', 'LAT (lative) ‘')\n",
      "('Agul', '-ʁ- || ʁa-', 'UP ‘motion up’')\n",
      "('Agul', 'al- ', 'SUPER ‘on the horizontal surface’')\n",
      "('Agul', 'f- ', 'APUD ‘near a ground’')\n",
      "('Agul', 'h- ', 'ANTE ‘in front of a ground’')\n",
      "('Agul', 'j- ', 'down')\n",
      "('Agul', 'k-', 'SUB/CONT ‘below’/‘attached to a ground’.')\n",
      "('Agul', 'q(-)', 'repetitive')\n",
      "('Agul', 'q- ', 'POST ‘behind a ground')\n",
      "('Agul', 'q- ', 'repetitive')\n",
      "('Agul', 'č(-)', 'in combination with spatial preverbs')\n",
      "('Agul', 'ɣ(-)', 'up')\n",
      "('Agul', 'ʔ-', 'IN ‘inside a container')\n",
      "('Agul', 'ʕ- ', '\"INTER ‘inside liquid or substance’')\n",
      "('Budukh', '\"-ç’a', ' -cA')\n",
      "('Budukh', '\"ha-', ' ç’a-\"')\n",
      "('Budukh', '(ʔ)A- ', '‘inside a container’:')\n",
      "('Budukh', 'qA- ', '\"‘out')\n",
      "('Budukh', 'qI- ', '‘on’:')\n",
      "('Budukh', 'vA-', '‘near’:')\n",
      "('Budukh', 'yA- ', '‘through’:')\n",
      "('Budukh', 'çA- ', '‘away’:')\n",
      "('Budukh', 'çI- ', '\"‘under')\n",
      "('Budukh', 'ʕI- ', '\"‘against')\n",
      "('Budukh', 'ʕa- ', '‘down’:')\n",
      "('Kryz', '\"k’i-', '\"')\n",
      "('Kryz', 'hu-/ha-', 'apud')\n",
      "('Kryz', 'i-', 'highly idiomatized')\n",
      "('Kryz', 'ki-/ke', 'sub')\n",
      "('Kryz', 'qa-/qi-', 'repetitve')\n",
      "('Kryz', 'su-/sa-', 'cum')\n",
      "('Kryz', 'sur-', 'on')\n",
      "('Kryz', 'tu- ; t’u- ', 'highly idiomatized')\n",
      "('Kryz', 'vu-/va-', 'ad')\n",
      "('Kryz', 'ya-', 'l’idée de partition.')\n",
      "('Kryz', 'yi', 'highly idiomatized')\n",
      "('Kryz', 'çi-/ ça-', 'sub')\n",
      "('Kryz', 'ç’a-/ç’u-', 'highly idiomatized')\n",
      "('Kryz', 'ği-/ğa-', 'super')\n",
      "('Kryz', 'ˁu-/ˁa-', 'in')\n",
      "('Lezgian', 'Ac', '')\n",
      "('Lezgian', 'Ag', \"approaching'\")\n",
      "('Lezgian', 'Ak', '')\n",
      "('Lezgian', 'Al', 'off')\n",
      "('Lezgian', \"Aq'\", '')\n",
      "('Lezgian', 'Aq̅- ', 'out')\n",
      "('Lezgian', 'Aw', '')\n",
      "('Lezgian', 'acAl', '')\n",
      "('Lezgian', 'agAl', '')\n",
      "('Lezgian', \"aq'Al\", '')\n",
      "('Lezgian', 'gAl', '')\n",
      "('Lezgian', 'gw', '')\n",
      "('Lezgian', 'h', '')\n",
      "('Lezgian', 'hAl', '')\n",
      "('Lezgian', \"k'w\", '')\n",
      "('Lezgian', 'kAk', '')\n",
      "('Lezgian', 'kAl', '')\n",
      "('Lezgian', 'kw', '')\n",
      "('Lezgian', 'qh(i)', 'repetitive')\n",
      "('Lezgian', 'q̅Aq̅', '')\n",
      "('Lezgian', 'x(U)', 'repetitive')\n",
      "('Lezgian', 'xk', '')\n",
      "('Rutul', ' alekseev2016\"', '\"ql')\n",
      "('Rutul', ' alekseev2016\"', '\"ǯ')\n",
      "('Rutul', ' alekseev2016\"', 'g')\n",
      "('Rutul', ' alekseev2016\"', 'k')\n",
      "('Rutul', ' alekseev2016\"', 'l')\n",
      "('Rutul', ' alekseev2016\"', 'q')\n",
      "('Rutul', ' alekseev2016\"', 's')\n",
      "('Rutul', ' alekseev2016\"', 'xˇ -')\n",
      "('Rutul', ' alekseev2016\"', 'ğ-')\n",
      "('Rutul', ' alekseev2016\"', 'ʔ')\n",
      "('Tabasaran', ' magometov1965\"', 'ka (k)')\n",
      "('Tabasaran', ' magometov1965\"', 'а /ъа (ʔ)')\n",
      "('Tabasaran', ' magometov1965\"', 'ал (il)')\n",
      "('Tabasaran', ' magometov1965\"', \"гья (ɣ')\")\n",
      "('Tabasaran', ' magometov1965\"', 'кка ')\n",
      "('Tabasaran', ' magometov1965\"', 'хъа (q)')\n",
      "('Tabasaran', ' magometov1965\"', 'хь-а/гь-а (xʲ/h)')\n",
      "('Udi', '*ai', 'upward')\n",
      "('Udi', '*xuru-', 'around')\n",
      "('Udi', 'ba', 'inside')\n",
      "('Udi', 'ba(j)', 'in(to)')\n",
      "('Udi', 'ci', 'downward')\n",
      "('Udi', 'e-', 'hither')\n",
      "('Udi', 'la', 'upward')\n",
      "('Udi', 'la(y)', 'on(to)')\n",
      "('Udi', 'qay-', 'back')\n",
      "('Udi', 'ta(y)-', 'thither')\n",
      "('Udi', 'tsi', 'down')\n",
      "('Udi', 'čːe-', 'outside')\n",
      "('Udi', 'ʧ’e-', 'out')\n"
     ]
    }
   ],
   "source": [
    "# создаем таблицу\n",
    "c.execute(\"DROP TABLE IF EXISTS Preverbs\")\n",
    "c.execute(\"CREATE TABLE IF NOT EXISTS Preverbs (language, source, preverb, meaning, comments)\")\n",
    "\n",
    "for row in f:\n",
    "    row = row.split(',')\n",
    "    c.execute(\"INSERT INTO Preverbs VALUES (?, ?, ?, ?, ?)\", (row[0], row[1], row[2], row[3], row[4]))\n",
    "\n",
    "# сохраняем изменения\n",
    "conn.commit()\n",
    "\n",
    "for i in c.execute(\"delete FROM Preverbs where source = 'source'\"):\n",
    "    print(i)\n",
    "for i in c.execute('SELECT lang, preverb, meaning FROM PreverbsGen inner join Preverbs on PreverbsGen.lang = Preverbs.language where branch = \"Lezgic\"'):\n",
    "    print(i)"
   ]
  },
  {
   "cell_type": "markdown",
   "metadata": {},
   "source": [
    "At the end it broke a bit because there were two sources apparantly and splited by comma. "
   ]
  },
  {
   "cell_type": "markdown",
   "metadata": {},
   "source": [
    "5. let's check what languages have repetitive prefix"
   ]
  },
  {
   "cell_type": "code",
   "execution_count": 171,
   "metadata": {},
   "outputs": [
    {
     "name": "stdout",
     "output_type": "stream",
     "text": [
      "('Agul', 'Lezgic', 'q(-)', 'repetitive')\n",
      "('Agul', 'Lezgic', 'q(-)', 'repetitive')\n",
      "('Agul', 'Lezgic', 'q- ', 'repetitive')\n",
      "('Agul', 'Lezgic', 'q- ', 'repetitive')\n",
      "('Lezgian', 'Lezgic', 'qh(i)', 'repetitive')\n",
      "('Lezgian', 'Lezgic', 'x(U)', 'repetitive')\n"
     ]
    }
   ],
   "source": [
    "for i in c.execute('''SELECT lang, branch, preverb, meaning FROM Preverbsgen inner join Preverbs on PreverbsGen.lang = Preverbs.language \n",
    "where meaning = \"repetitive\"'''):\n",
    "    print(i)"
   ]
  },
  {
   "cell_type": "markdown",
   "metadata": {},
   "source": [
    "Interestingly, only lezgic languages have repetitive (if this meaning has only one label in my data)"
   ]
  },
  {
   "cell_type": "markdown",
   "metadata": {},
   "source": [
    "6. Finally, let's check in what languages and branches highly idionatized preverbs are used and how many preverbs these languages have at all. I guess few."
   ]
  },
  {
   "cell_type": "code",
   "execution_count": 184,
   "metadata": {},
   "outputs": [
    {
     "name": "stdout",
     "output_type": "stream",
     "text": [
      "('highly idiomatized', 'Dargwa', 'Dargwa', '10', 'har-')\n",
      "('highly idiomatized', 'Dargwa', 'Dargwa', '10', 'q’a-')\n",
      "('highly idiomatized', 'Dargwa', 'Dargwa', '12', 'har-')\n",
      "('highly idiomatized', 'Dargwa', 'Dargwa', '12', 'q’a-')\n",
      "('highly idiomatized', 'Kryz', 'Lezgic', '15', 'ç’a-/ç’u-')\n",
      "('highly idiomatized', 'Kryz', 'Lezgic', '15', 'tu- ; t’u- ')\n",
      "('highly idiomatized', 'Kryz', 'Lezgic', '15', 'yi')\n",
      "('highly idiomatized', 'Kryz', 'Lezgic', '15', 'i-')\n",
      "('highly idiomatized', 'Dargwa', 'Dargwa', '18', 'har-')\n",
      "('highly idiomatized', 'Dargwa', 'Dargwa', '18', 'q’a-')\n",
      "('highly idiomatized', 'Dargwa', 'Dargwa', '5', 'har-')\n",
      "('highly idiomatized', 'Dargwa', 'Dargwa', '5', 'q’a-')\n"
     ]
    }
   ],
   "source": [
    "for i in c.execute('''SELECT distinct meaning, lang, branch, value, preverb FROM Preverbsgen inner join Preverbs on PreverbsGen.lang = Preverbs.language \n",
    "where meaning = \"highly idiomatized\" order by value'''):\n",
    "    print(i)"
   ]
  },
  {
   "cell_type": "markdown",
   "metadata": {},
   "source": [
    "my guess was wrong :)))))"
   ]
  },
  {
   "cell_type": "code",
   "execution_count": 6,
   "metadata": {},
   "outputs": [],
   "source": [
    "# отключаемся от БД\n",
    "conn.close()"
   ]
  },
  {
   "cell_type": "markdown",
   "metadata": {},
   "source": [
    "<b> Task 4. Visualization"
   ]
  },
  {
   "cell_type": "code",
   "execution_count": 51,
   "metadata": {},
   "outputs": [],
   "source": [
    "import pandas as pd\n",
    "import matplotlib.pyplot as plt\n",
    "%matplotlib inline\n",
    "import seaborn as sns\n",
    "prbs = pd.read_csv('Preverbs.csv', sep=',').fillna('') "
   ]
  },
  {
   "cell_type": "markdown",
   "metadata": {},
   "source": [
    "Let's look at the number od preverbs in all languages"
   ]
  },
  {
   "cell_type": "code",
   "execution_count": 56,
   "metadata": {},
   "outputs": [
    {
     "data": {
      "image/png": "[encoded data removed]",
      "text/plain": [
       "<Figure size 432x288 with 1 Axes>"
      ]
     },
     "metadata": {
      "needs_background": "light"
     },
     "output_type": "display_data"
    }
   ],
   "source": [
    "chart = sns.barplot(x = 'lang', y=\"value\", data=prbs)\n",
    "for item in chart.get_xticklabels():\n",
    "    item.set_rotation(90)"
   ]
  },
  {
   "cell_type": "markdown",
   "metadata": {},
   "source": [
    "Now look at the average number of preverbs in each group/family"
   ]
  },
  {
   "cell_type": "code",
   "execution_count": 110,
   "metadata": {},
   "outputs": [
    {
     "data": {
      "text/plain": [
       "<AxesSubplot:xlabel='group/family'>"
      ]
     },
     "execution_count": 110,
     "metadata": {},
     "output_type": "execute_result"
    },
    {
     "data": {
      "image/png": "[encoded data removed]",
      "text/plain": [
       "<Figure size 432x288 with 1 Axes>"
      ]
     },
     "metadata": {
      "needs_background": "light"
     },
     "output_type": "display_data"
    }
   ],
   "source": [
    "prbs.groupby(\"group/family\").agg({\"value\": \"mean\"}).plot.bar(color = 'violet')"
   ]
  },
  {
   "cell_type": "markdown",
   "metadata": {},
   "source": [
    "Now let's look only at Lezgic group. It's interesting how diverse Lezgic languages are regarding the number of preverbs. So the the average numbers from the previous plot do not show all the truth."
   ]
  },
  {
   "cell_type": "code",
   "execution_count": 58,
   "metadata": {},
   "outputs": [
    {
     "data": {
      "image/png": "[encoded data removed]",
      "text/plain": [
       "<Figure size 432x288 with 1 Axes>"
      ]
     },
     "metadata": {
      "needs_background": "light"
     },
     "output_type": "display_data"
    }
   ],
   "source": [
    "chart = sns.barplot(x = prbs[prbs['group/family'] == 'Lezgic']['lang'], y=prbs[prbs['group/family'] == 'Lezgic']['value'], data=prbs)\n",
    "for item in chart.get_xticklabels():\n",
    "    item.set_rotation(90)"
   ]
  },
  {
   "cell_type": "markdown",
   "metadata": {},
   "source": [
    "Finally, the last plot presents the variety of numer of preverbs in each group/family under study. \n",
    "Unfortunately, I failed to write a code that could give names of languages to all the points but it still look rather nice, I think :)"
   ]
  },
  {
   "cell_type": "code",
   "execution_count": 109,
   "metadata": {},
   "outputs": [
    {
     "name": "stdout",
     "output_type": "stream",
     "text": [
      "<matplotlib.collections.PathCollection object at 0x1D749538>\n"
     ]
    },
    {
     "data": {
      "image/png": "[encoded data removed]",
      "text/plain": [
       "<Figure size 432x288 with 1 Axes>"
      ]
     },
     "metadata": {
      "needs_background": "light"
     },
     "output_type": "display_data"
    }
   ],
   "source": [
    "chart = plt.scatter(prbs['group/family'], prbs['value'], color='chocolate')\n",
    "plt.xticks(rotation=70)\n",
    "print(chart)"
   ]
  },
  {
   "cell_type": "markdown",
   "metadata": {},
   "source": [
    "I also tried boxplot to visualize the same data but i think it looks worse. I don't have enough languages for this kind of plot."
   ]
  },
  {
   "cell_type": "code",
   "execution_count": 117,
   "metadata": {},
   "outputs": [
    {
     "data": {
      "image/png": "[encoded data removed]",
      "text/plain": [
       "<Figure size 432x288 with 1 Axes>"
      ]
     },
     "metadata": {
      "needs_background": "light"
     },
     "output_type": "display_data"
    }
   ],
   "source": [
    "chart = sns.boxplot(x = 'group/family', y= 'value', data = prbs)\n",
    "for item in chart.get_xticklabels():\n",
    "    item.set_rotation(90)"
   ]
  },
  {
   "cell_type": "markdown",
   "metadata": {},
   "source": [
    "The end"
   ]
  }
 ],
 "metadata": {
  "kernelspec": {
   "display_name": "Python 3",
   "language": "python",
   "name": "python3"
  },
  "language_info": {
   "codemirror_mode": {
    "name": "ipython",
    "version": 3
   },
   "file_extension": ".py",
   "mimetype": "text/x-python",
   "name": "python",
   "nbconvert_exporter": "python",
   "pygments_lexer": "ipython3",
   "version": "3.8.5"
  }
 },
 "nbformat": 4,
 "nbformat_minor": 4
}
